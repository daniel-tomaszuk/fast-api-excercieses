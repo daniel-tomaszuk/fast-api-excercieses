{
 "cells": [
  {
   "cell_type": "code",
   "execution_count": 1,
   "id": "90d93392-3a28-40cf-934f-7549fb18f0af",
   "metadata": {},
   "outputs": [],
   "source": [
    "from pydantic import BaseModel"
   ]
  },
  {
   "cell_type": "code",
   "execution_count": 2,
   "id": "fb5ef504-4def-454b-abd7-6c3999035f66",
   "metadata": {},
   "outputs": [],
   "source": [
    "class Person(BaseModel):\n",
    "    first_name: str\n",
    "    last_name: str\n",
    "    age: int\n",
    "    "
   ]
  },
  {
   "cell_type": "code",
   "execution_count": 3,
   "id": "b915c0d8-011d-4c63-a79c-8d3bd0ad709e",
   "metadata": {},
   "outputs": [],
   "source": [
    "p = Person(first_name=\"John\", last_name=\"John\", age=42)"
   ]
  },
  {
   "cell_type": "code",
   "execution_count": 4,
   "id": "0047d98c-4c50-4ec6-aa8e-10a8502f73ed",
   "metadata": {},
   "outputs": [
    {
     "data": {
      "text/plain": [
       "(Person(first_name='John', last_name='John', age=42),\n",
       " {'first_name': 'John', 'last_name': 'John', 'age': 42})"
      ]
     },
     "execution_count": 4,
     "metadata": {},
     "output_type": "execute_result"
    }
   ],
   "source": [
    "p, p.__dict__"
   ]
  },
  {
   "cell_type": "code",
   "execution_count": 5,
   "id": "b30218e5-7d51-4e69-bd3c-bf971d279890",
   "metadata": {},
   "outputs": [
    {
     "name": "stdout",
     "output_type": "stream",
     "text": [
      "<class 'pydantic_core._pydantic_core.ValidationError'> 2 validation errors for Person\n",
      "first_name\n",
      "  Input should be a valid string [type=string_type, input_value=1234, input_type=int]\n",
      "    For further information visit https://errors.pydantic.dev/2.8/v/string_type\n",
      "age\n",
      "  Input should be a valid integer, unable to parse string as an integer [type=int_parsing, input_value='abcd', input_type=str]\n",
      "    For further information visit https://errors.pydantic.dev/2.8/v/int_parsing\n"
     ]
    }
   ],
   "source": [
    "from pydantic import ValidationError\n",
    "\n",
    "try:\n",
    "    Person(first_name=1234, last_name=\"12345\", age=\"abcd\")\n",
    "except ValidationError as e:\n",
    "    print(type(e), e)"
   ]
  },
  {
   "cell_type": "code",
   "execution_count": 6,
   "id": "a975479b-1d82-4737-805e-0c3109ddff97",
   "metadata": {},
   "outputs": [
    {
     "data": {
      "text/plain": [
       "(str, 'John')"
      ]
     },
     "execution_count": 6,
     "metadata": {},
     "output_type": "execute_result"
    }
   ],
   "source": [
    "type(p.first_name), p.first_name"
   ]
  },
  {
   "cell_type": "code",
   "execution_count": 7,
   "id": "89c4aba2-238a-4da0-8c5e-464528b0f9b0",
   "metadata": {},
   "outputs": [],
   "source": [
    "p.first_name = \"Bob\""
   ]
  },
  {
   "cell_type": "code",
   "execution_count": 8,
   "id": "4e135618-d438-4ea6-9307-b4e6011b2abc",
   "metadata": {},
   "outputs": [],
   "source": [
    "p.first_name = 100"
   ]
  },
  {
   "cell_type": "code",
   "execution_count": 9,
   "id": "a109e075-64a6-4570-a5c6-b933f3510fb5",
   "metadata": {},
   "outputs": [
    {
     "data": {
      "text/plain": [
       "100"
      ]
     },
     "execution_count": 9,
     "metadata": {},
     "output_type": "execute_result"
    }
   ],
   "source": [
    "p.first_name  # watch out!"
   ]
  },
  {
   "cell_type": "code",
   "execution_count": 10,
   "id": "4f9ed383-9b83-41e2-9948-cab5269ee9af",
   "metadata": {},
   "outputs": [],
   "source": [
    "try:\n",
    "    Person(first_name=1234, last_name=\"12345\", age=\"abcd\")\n",
    "except ValidationError as e:\n",
    "    exceptions = e"
   ]
  },
  {
   "cell_type": "code",
   "execution_count": 11,
   "id": "e608ebbb-3976-4748-9f4e-8dc9ef397f9d",
   "metadata": {},
   "outputs": [
    {
     "data": {
      "text/plain": [
       "[{'type': 'string_type',\n",
       "  'loc': ('first_name',),\n",
       "  'msg': 'Input should be a valid string',\n",
       "  'input': 1234,\n",
       "  'url': 'https://errors.pydantic.dev/2.8/v/string_type'},\n",
       " {'type': 'int_parsing',\n",
       "  'loc': ('age',),\n",
       "  'msg': 'Input should be a valid integer, unable to parse string as an integer',\n",
       "  'input': 'abcd',\n",
       "  'url': 'https://errors.pydantic.dev/2.8/v/int_parsing'}]"
      ]
     },
     "execution_count": 11,
     "metadata": {},
     "output_type": "execute_result"
    }
   ],
   "source": [
    "exceptions.errors()"
   ]
  },
  {
   "cell_type": "code",
   "execution_count": 12,
   "id": "5da0614b-7cc0-478d-b2c8-e165b0f4afb9",
   "metadata": {},
   "outputs": [
    {
     "data": {
      "text/plain": [
       "'[{\"type\":\"string_type\",\"loc\":[\"first_name\"],\"msg\":\"Input should be a valid string\",\"input\":1234,\"url\":\"https://errors.pydantic.dev/2.8/v/string_type\"},{\"type\":\"int_parsing\",\"loc\":[\"age\"],\"msg\":\"Input should be a valid integer, unable to parse string as an integer\",\"input\":\"abcd\",\"url\":\"https://errors.pydantic.dev/2.8/v/int_parsing\"}]'"
      ]
     },
     "execution_count": 12,
     "metadata": {},
     "output_type": "execute_result"
    }
   ],
   "source": [
    "exceptions.json()"
   ]
  },
  {
   "cell_type": "code",
   "execution_count": 13,
   "id": "9206e43c-d63d-458f-a7b4-fe6f392c0816",
   "metadata": {},
   "outputs": [],
   "source": [
    "p = Person.model_validate(dict(first_name=\"Bob\", last_name=\"Moore\", age=33))"
   ]
  },
  {
   "cell_type": "code",
   "execution_count": 14,
   "id": "e5f2a8e9-b7c2-498b-9afd-b91af6273a5a",
   "metadata": {},
   "outputs": [
    {
     "data": {
      "text/plain": [
       "Person(first_name='Bob', last_name='Moore', age=33)"
      ]
     },
     "execution_count": 14,
     "metadata": {},
     "output_type": "execute_result"
    }
   ],
   "source": [
    "p"
   ]
  },
  {
   "cell_type": "code",
   "execution_count": 15,
   "id": "cb729db3-234e-44bd-be92-0643eb456316",
   "metadata": {},
   "outputs": [],
   "source": [
    "data_json = '''\n",
    "{\n",
    "    \"first_name\": \"Ada\",\n",
    "    \"last_name\": \"Wong\",\n",
    "    \"age\": 34\n",
    "}    \n",
    "'''\n",
    "\n",
    "p = Person.model_validate_json(data_json)"
   ]
  },
  {
   "cell_type": "code",
   "execution_count": 16,
   "id": "566a82c9-05e7-4574-922a-49ee3979398f",
   "metadata": {},
   "outputs": [
    {
     "data": {
      "text/plain": [
       "Person(first_name='Ada', last_name='Wong', age=34)"
      ]
     },
     "execution_count": 16,
     "metadata": {},
     "output_type": "execute_result"
    }
   ],
   "source": [
    "p"
   ]
  },
  {
   "cell_type": "code",
   "execution_count": 17,
   "id": "27aae6c2-efe5-4fe0-9b71-72dbba669f0c",
   "metadata": {},
   "outputs": [
    {
     "name": "stdout",
     "output_type": "stream",
     "text": [
      "2 validation errors for Person\n",
      "first_name\n",
      "  Field required [type=missing, input_value={'age': 42}, input_type=dict]\n",
      "    For further information visit https://errors.pydantic.dev/2.8/v/missing\n",
      "last_name\n",
      "  Field required [type=missing, input_value={'age': 42}, input_type=dict]\n",
      "    For further information visit https://errors.pydantic.dev/2.8/v/missing\n"
     ]
    }
   ],
   "source": [
    "try:\n",
    "    Person(age=42)\n",
    "except ValidationError as ex:\n",
    "    print(ex)"
   ]
  },
  {
   "cell_type": "code",
   "execution_count": 18,
   "id": "2bb10346-c762-493d-96c4-0a4b5fc4baf2",
   "metadata": {},
   "outputs": [],
   "source": [
    "class Person(BaseModel):\n",
    "    first_name: str\n",
    "    last_name: str\n",
    "    age: int = 0   # default, non required value\n",
    "    "
   ]
  },
  {
   "cell_type": "code",
   "execution_count": 19,
   "id": "554c77c7-4164-4678-b22e-068040bc3b26",
   "metadata": {},
   "outputs": [
    {
     "data": {
      "text/plain": [
       "{'first_name': FieldInfo(annotation=str, required=True),\n",
       " 'last_name': FieldInfo(annotation=str, required=True),\n",
       " 'age': FieldInfo(annotation=int, required=False, default=0)}"
      ]
     },
     "execution_count": 19,
     "metadata": {},
     "output_type": "execute_result"
    }
   ],
   "source": [
    "Person.model_fields"
   ]
  },
  {
   "cell_type": "code",
   "execution_count": 20,
   "id": "70c83420-9fe1-4b94-949b-b419a70e98a8",
   "metadata": {},
   "outputs": [],
   "source": [
    "p = Person(first_name=\"John\", last_name=\"Smith\")"
   ]
  },
  {
   "cell_type": "code",
   "execution_count": 21,
   "id": "6e731dc6-2b28-49fc-bf95-f9d4346dbee3",
   "metadata": {},
   "outputs": [
    {
     "data": {
      "text/plain": [
       "Person(first_name='John', last_name='Smith', age=0)"
      ]
     },
     "execution_count": 21,
     "metadata": {},
     "output_type": "execute_result"
    }
   ],
   "source": [
    "p"
   ]
  },
  {
   "cell_type": "code",
   "execution_count": 22,
   "id": "78989e80-9e8a-4347-b794-856a2798b6dc",
   "metadata": {},
   "outputs": [],
   "source": [
    "class Person(BaseModel):\n",
    "    first_name: str | None = None\n",
    "    last_name: str\n",
    "    age: int"
   ]
  },
  {
   "cell_type": "code",
   "execution_count": 23,
   "id": "53d4c56e-8b0e-47a1-9fe0-f44413274988",
   "metadata": {},
   "outputs": [
    {
     "data": {
      "text/plain": [
       "{'first_name': FieldInfo(annotation=Union[str, NoneType], required=False, default=None),\n",
       " 'last_name': FieldInfo(annotation=str, required=True),\n",
       " 'age': FieldInfo(annotation=int, required=True)}"
      ]
     },
     "execution_count": 23,
     "metadata": {},
     "output_type": "execute_result"
    }
   ],
   "source": [
    "Person.model_fields"
   ]
  },
  {
   "cell_type": "code",
   "execution_count": 24,
   "id": "2b44ac03-8f0c-437d-98e4-254dfdb8feef",
   "metadata": {},
   "outputs": [],
   "source": [
    "from typing import Union\n",
    "\n",
    "\n",
    "class Person(BaseModel):\n",
    "    first_name: Union[str, None] = None\n",
    "    last_name: str\n",
    "    age: int = 10\n"
   ]
  },
  {
   "cell_type": "code",
   "execution_count": 25,
   "id": "a5768932-98df-48bd-bebf-5f9b16e1e70a",
   "metadata": {},
   "outputs": [
    {
     "data": {
      "text/plain": [
       "{'first_name': FieldInfo(annotation=Union[str, NoneType], required=False, default=None),\n",
       " 'last_name': FieldInfo(annotation=str, required=True),\n",
       " 'age': FieldInfo(annotation=int, required=False, default=10)}"
      ]
     },
     "execution_count": 25,
     "metadata": {},
     "output_type": "execute_result"
    }
   ],
   "source": [
    "Person.model_fields"
   ]
  },
  {
   "cell_type": "code",
   "execution_count": 26,
   "id": "ad81a340-8bfd-4a86-9882-d06185b14f9b",
   "metadata": {},
   "outputs": [],
   "source": [
    "\n",
    "class Person(BaseModel):\n",
    "    first_name: str\n",
    "    last_name: str\n",
    "    age: int\n",
    "    lucky_numbers: list[int] | None = None\n"
   ]
  },
  {
   "cell_type": "code",
   "execution_count": 27,
   "id": "b250f178-ec1a-4032-8375-5a3c2f42c7fa",
   "metadata": {},
   "outputs": [
    {
     "data": {
      "text/plain": [
       "{'first_name': FieldInfo(annotation=str, required=True),\n",
       " 'last_name': FieldInfo(annotation=str, required=True),\n",
       " 'age': FieldInfo(annotation=int, required=True),\n",
       " 'lucky_numbers': FieldInfo(annotation=Union[list[int], NoneType], required=False, default=None)}"
      ]
     },
     "execution_count": 27,
     "metadata": {},
     "output_type": "execute_result"
    }
   ],
   "source": [
    "Person.model_fields"
   ]
  },
  {
   "cell_type": "code",
   "execution_count": 28,
   "id": "32c7d1f9-077d-4f46-b797-3585479090a8",
   "metadata": {},
   "outputs": [],
   "source": [
    "p = Person(last_name=\"Smith\", first_name=\"John\", age=22, lucky_numbers=[1, \"2\", 3.0])"
   ]
  },
  {
   "cell_type": "code",
   "execution_count": 29,
   "id": "c910aa6a-51b8-4b7c-991d-4917d59b0229",
   "metadata": {},
   "outputs": [
    {
     "data": {
      "text/plain": [
       "Person(first_name='John', last_name='Smith', age=22, lucky_numbers=[1, 2, 3])"
      ]
     },
     "execution_count": 29,
     "metadata": {},
     "output_type": "execute_result"
    }
   ],
   "source": [
    "p"
   ]
  },
  {
   "cell_type": "code",
   "execution_count": 30,
   "id": "d27ee6c1-be3e-4c2a-ae67-e2548c23ab45",
   "metadata": {},
   "outputs": [],
   "source": [
    "from pydantic import Field\n",
    "\n",
    "\n",
    "class Person(BaseModel):\n",
    "    id_: int = Field(alias=\"id\")\n",
    "    first_name: str = Field(alias=\"First Name\")\n",
    "    last_name: str = Field(alias=\"LASTNAME\")\n",
    "    age: int = Field(alias=\"age in years\")"
   ]
  },
  {
   "cell_type": "code",
   "execution_count": 31,
   "id": "f8cd922a-fe77-4d33-b6a8-a6a62c26a292",
   "metadata": {},
   "outputs": [],
   "source": [
    "p = Person.model_validate({\"id\": 100, \"First Name\": \"Bob\", \"LASTNAME\": \"Mythnic\", \"age in years\": 55})"
   ]
  },
  {
   "cell_type": "code",
   "execution_count": 32,
   "id": "47500373-33f3-4044-ad0f-88bec16ac365",
   "metadata": {},
   "outputs": [
    {
     "data": {
      "text/plain": [
       "Person(id_=100, first_name='Bob', last_name='Mythnic', age=55)"
      ]
     },
     "execution_count": 32,
     "metadata": {},
     "output_type": "execute_result"
    }
   ],
   "source": [
    "p"
   ]
  },
  {
   "cell_type": "code",
   "execution_count": 33,
   "id": "57c609af-1646-4132-b045-8581caf57763",
   "metadata": {},
   "outputs": [
    {
     "data": {
      "text/plain": [
       "({'id_': 100, 'first_name': 'Bob', 'last_name': 'Mythnic', 'age': 55},\n",
       " '{\"id_\":100,\"first_name\":\"Bob\",\"last_name\":\"Mythnic\",\"age\":55}')"
      ]
     },
     "execution_count": 33,
     "metadata": {},
     "output_type": "execute_result"
    }
   ],
   "source": [
    "p.model_dump(), p.model_dump_json()"
   ]
  },
  {
   "cell_type": "code",
   "execution_count": 34,
   "id": "a6644093-965e-4649-abc7-352a893eb5c1",
   "metadata": {},
   "outputs": [
    {
     "data": {
      "text/plain": [
       "{'id': 100, 'First Name': 'Bob', 'LASTNAME': 'Mythnic', 'age in years': 55}"
      ]
     },
     "execution_count": 34,
     "metadata": {},
     "output_type": "execute_result"
    }
   ],
   "source": [
    "p.model_dump(by_alias=True)"
   ]
  },
  {
   "cell_type": "code",
   "execution_count": 35,
   "id": "c41974f6-7ff8-43e5-bcea-e8f114ce1f3b",
   "metadata": {},
   "outputs": [
    {
     "data": {
      "text/plain": [
       "'{\"id\":100,\"First Name\":\"Bob\",\"LASTNAME\":\"Mythnic\",\"age in years\":55}'"
      ]
     },
     "execution_count": 35,
     "metadata": {},
     "output_type": "execute_result"
    }
   ],
   "source": [
    "p.model_dump_json(by_alias=True)"
   ]
  },
  {
   "cell_type": "code",
   "execution_count": 36,
   "id": "e2850c43-a865-4539-bc44-30977e9ff091",
   "metadata": {},
   "outputs": [],
   "source": [
    "class Person(BaseModel):\n",
    "    first_name: str | None = Field(alias=\"firstName\", default=None)\n",
    "    last_name: str = Field(alias=\"lastName\")"
   ]
  },
  {
   "cell_type": "code",
   "execution_count": 37,
   "id": "a42c22c2-8556-4276-bdef-4cbba7191e5b",
   "metadata": {},
   "outputs": [],
   "source": [
    "data = {\n",
    "    \"lastName\": \"Smith\"\n",
    "}\n",
    "\n",
    "p = Person.model_validate(data)"
   ]
  },
  {
   "cell_type": "code",
   "execution_count": 38,
   "id": "bd5baf3e-ebc7-4f47-acfe-bcb31f6cc286",
   "metadata": {},
   "outputs": [
    {
     "data": {
      "text/plain": [
       "Person(first_name=None, last_name='Smith')"
      ]
     },
     "execution_count": 38,
     "metadata": {},
     "output_type": "execute_result"
    }
   ],
   "source": [
    "p"
   ]
  },
  {
   "cell_type": "code",
   "execution_count": 39,
   "id": "6260f107-fc3a-4509-aa37-8198e401711f",
   "metadata": {},
   "outputs": [
    {
     "name": "stdout",
     "output_type": "stream",
     "text": [
      "1 validation error for Person\n",
      "lastName\n",
      "  Field required [type=missing, input_value={'last_name': 'Smith'}, input_type=dict]\n",
      "    For further information visit https://errors.pydantic.dev/2.8/v/missing\n"
     ]
    }
   ],
   "source": [
    "try:\n",
    "    Person(last_name=\"Smith\")\n",
    "except ValidationError as e:\n",
    "    print(e)"
   ]
  },
  {
   "cell_type": "code",
   "execution_count": 40,
   "id": "a3937296-e575-420b-a604-72318bdf3772",
   "metadata": {},
   "outputs": [],
   "source": [
    "from pydantic import ConfigDict"
   ]
  },
  {
   "cell_type": "code",
   "execution_count": 41,
   "id": "a1f2beb9-da4a-444f-bf61-f7201868d3f4",
   "metadata": {},
   "outputs": [],
   "source": [
    "class Person(BaseModel):\n",
    "    model_config = ConfigDict(\n",
    "        populate_by_name=True,  # allows usage of fields and / or aliases\n",
    "    )\n",
    "    \n",
    "    first_name: str | None = Field(alias=\"firstName\", default=None)\n",
    "    last_name: str = Field(alias=\"lastName\")\n",
    "    "
   ]
  },
  {
   "cell_type": "code",
   "execution_count": 42,
   "id": "162602c6-eddf-48d7-9a50-ab93aac47da6",
   "metadata": {},
   "outputs": [],
   "source": [
    "p = Person(first_name=\"John\", lastName=\"Smith\")"
   ]
  },
  {
   "cell_type": "code",
   "execution_count": 43,
   "id": "cb64ca05-bf2f-4dce-8468-7a8d263399ac",
   "metadata": {},
   "outputs": [
    {
     "data": {
      "text/plain": [
       "Person(first_name='John', last_name='Smith')"
      ]
     },
     "execution_count": 43,
     "metadata": {},
     "output_type": "execute_result"
    }
   ],
   "source": [
    "p"
   ]
  },
  {
   "cell_type": "code",
   "execution_count": 44,
   "id": "0429c78c-c689-4e20-b3b1-e0f1735d38a9",
   "metadata": {},
   "outputs": [],
   "source": [
    "class Model(BaseModel):\n",
    "    numbers: list[int] = []  # Pydantic allows this - deep copy will be created"
   ]
  },
  {
   "cell_type": "code",
   "execution_count": 45,
   "id": "5a1e0941-bc30-4d31-956a-9cd0f2ad79ab",
   "metadata": {},
   "outputs": [],
   "source": [
    "m1 = Model()\n",
    "m2 = Model()"
   ]
  },
  {
   "cell_type": "code",
   "execution_count": 46,
   "id": "ab9620f8-7d54-4bd6-89c0-5b5d016eac04",
   "metadata": {},
   "outputs": [
    {
     "data": {
      "text/plain": [
       "Model(numbers=[1, 2, 3])"
      ]
     },
     "execution_count": 46,
     "metadata": {},
     "output_type": "execute_result"
    }
   ],
   "source": [
    "m1.numbers += [1, 2, 3]\n",
    "m1"
   ]
  },
  {
   "cell_type": "code",
   "execution_count": 47,
   "id": "4d6f7ccc-1cef-4069-9550-f0477240cbee",
   "metadata": {},
   "outputs": [
    {
     "data": {
      "text/plain": [
       "Model(numbers=[])"
      ]
     },
     "execution_count": 47,
     "metadata": {},
     "output_type": "execute_result"
    }
   ],
   "source": [
    "m2"
   ]
  },
  {
   "cell_type": "code",
   "execution_count": 48,
   "id": "6eaf30f1-dd03-4cb8-a4f8-e363f83c3943",
   "metadata": {},
   "outputs": [],
   "source": [
    "from datetime import datetime, timezone"
   ]
  },
  {
   "cell_type": "code",
   "execution_count": 49,
   "id": "c4a651b8-6b01-40db-9780-51142ea6b900",
   "metadata": {},
   "outputs": [],
   "source": [
    "class Log(BaseModel):\n",
    "    dt: datetime = Field(default_factory=lambda: datetime.now(timezone.utc))\n",
    "    message: str"
   ]
  },
  {
   "cell_type": "code",
   "execution_count": 50,
   "id": "c4167cba-80a4-445c-abf0-567bc48c2015",
   "metadata": {},
   "outputs": [],
   "source": [
    "log_1 = Log(message=\"message 1\")\n",
    "log_2 = Log(message=\"message 2\")"
   ]
  },
  {
   "cell_type": "code",
   "execution_count": 51,
   "id": "39415395-d0af-4ae6-aade-8b0a82b68177",
   "metadata": {},
   "outputs": [
    {
     "data": {
      "text/plain": [
       "(Log(dt=datetime.datetime(2024, 8, 5, 17, 21, 54, 733833, tzinfo=datetime.timezone.utc), message='message 1'),\n",
       " Log(dt=datetime.datetime(2024, 8, 5, 17, 21, 54, 733980, tzinfo=datetime.timezone.utc), message='message 2'))"
      ]
     },
     "execution_count": 51,
     "metadata": {},
     "output_type": "execute_result"
    }
   ],
   "source": [
    "log_1, log_2"
   ]
  },
  {
   "cell_type": "code",
   "execution_count": 52,
   "id": "ee96af6d-367f-486b-b949-9dd7221e6e53",
   "metadata": {},
   "outputs": [],
   "source": [
    "class Model(BaseModel):\n",
    "    number: float"
   ]
  },
  {
   "cell_type": "code",
   "execution_count": 53,
   "id": "fa040eae-05eb-404c-875a-3aeb0196cb4e",
   "metadata": {},
   "outputs": [
    {
     "data": {
      "text/plain": [
       "{'number': 1.0}"
      ]
     },
     "execution_count": 53,
     "metadata": {},
     "output_type": "execute_result"
    }
   ],
   "source": [
    "m = Model(number=1.0)\n",
    "m.model_dump()"
   ]
  },
  {
   "cell_type": "code",
   "execution_count": 54,
   "id": "4fb715f0-83aa-4a0b-a0e5-e6483198d14a",
   "metadata": {},
   "outputs": [],
   "source": [
    "m = Model(number=1/3)"
   ]
  },
  {
   "cell_type": "code",
   "execution_count": 55,
   "id": "ed829b4d-a5b8-46e7-ba33-6ede5c01b5bd",
   "metadata": {},
   "outputs": [
    {
     "data": {
      "text/plain": [
       "Model(number=0.3333333333333333)"
      ]
     },
     "execution_count": 55,
     "metadata": {},
     "output_type": "execute_result"
    }
   ],
   "source": [
    "m"
   ]
  },
  {
   "cell_type": "code",
   "execution_count": 56,
   "id": "a4e95b14-8a64-444f-b478-9dcee49fd888",
   "metadata": {},
   "outputs": [
    {
     "data": {
      "text/plain": [
       "'2024-08-05T17:21:54.835924+00:00'"
      ]
     },
     "execution_count": 56,
     "metadata": {},
     "output_type": "execute_result"
    }
   ],
   "source": [
    "dt = datetime.now(timezone.utc)\n",
    "dt.isoformat()"
   ]
  },
  {
   "cell_type": "code",
   "execution_count": 57,
   "id": "8c2fc3e5-8456-4fe6-a7a9-e0498d3c61c1",
   "metadata": {},
   "outputs": [],
   "source": [
    "class Model(BaseModel):\n",
    "    dt: datetime"
   ]
  },
  {
   "cell_type": "code",
   "execution_count": 58,
   "id": "dd1342d1-8571-4096-b7f6-5263f786f802",
   "metadata": {},
   "outputs": [],
   "source": [
    "m = Model(dt=datetime.now(timezone.utc))"
   ]
  },
  {
   "cell_type": "code",
   "execution_count": 59,
   "id": "f895745b-bb2d-4299-867d-2c5892271ff2",
   "metadata": {},
   "outputs": [
    {
     "data": {
      "text/plain": [
       "Model(dt=datetime.datetime(2024, 8, 5, 17, 21, 54, 870357, tzinfo=datetime.timezone.utc))"
      ]
     },
     "execution_count": 59,
     "metadata": {},
     "output_type": "execute_result"
    }
   ],
   "source": [
    "m"
   ]
  },
  {
   "cell_type": "code",
   "execution_count": 60,
   "id": "6f370776-740a-4dbc-b5eb-d0e4b8a53ddd",
   "metadata": {},
   "outputs": [
    {
     "data": {
      "text/plain": [
       "{'dt': datetime.datetime(2024, 8, 5, 17, 21, 54, 870357, tzinfo=datetime.timezone.utc)}"
      ]
     },
     "execution_count": 60,
     "metadata": {},
     "output_type": "execute_result"
    }
   ],
   "source": [
    "m.model_dump()"
   ]
  },
  {
   "cell_type": "code",
   "execution_count": 61,
   "id": "c4288ef4-a3ce-4147-bfad-6418d165c51a",
   "metadata": {},
   "outputs": [
    {
     "data": {
      "text/plain": [
       "'{\"dt\":\"2024-08-05T17:21:54.870357Z\"}'"
      ]
     },
     "execution_count": 61,
     "metadata": {},
     "output_type": "execute_result"
    }
   ],
   "source": [
    "m.model_dump_json()"
   ]
  },
  {
   "cell_type": "code",
   "execution_count": 62,
   "id": "f45802f7-d6f7-4fcc-a9a0-68abedfeb924",
   "metadata": {},
   "outputs": [],
   "source": [
    "from pydantic import field_serializer"
   ]
  },
  {
   "cell_type": "code",
   "execution_count": 63,
   "id": "d75070a6-b9ca-4948-899b-047c7109c5ea",
   "metadata": {},
   "outputs": [],
   "source": [
    "class Model(BaseModel):\n",
    "    number: float\n",
    "\n",
    "    @field_serializer(\"number\")\n",
    "    def serialize_float(self, value):\n",
    "        return round(value, 2)\n"
   ]
  },
  {
   "cell_type": "code",
   "execution_count": 64,
   "id": "42c7a006-ef0b-4ea2-965e-55ef1e2a274d",
   "metadata": {},
   "outputs": [],
   "source": [
    "m = Model(number=1/3)"
   ]
  },
  {
   "cell_type": "code",
   "execution_count": 65,
   "id": "0cdbc727-77a1-4de8-81f2-d9f5a7745900",
   "metadata": {},
   "outputs": [
    {
     "data": {
      "text/plain": [
       "({'number': 0.33}, '{\"number\":0.33}')"
      ]
     },
     "execution_count": 65,
     "metadata": {},
     "output_type": "execute_result"
    }
   ],
   "source": [
    "m.model_dump(), m.model_dump_json()"
   ]
  },
  {
   "cell_type": "code",
   "execution_count": 66,
   "id": "e10ca9ed-24c7-498d-8811-e4cd8c223fd6",
   "metadata": {},
   "outputs": [],
   "source": [
    "class Model(BaseModel):\n",
    "    number: float\n",
    "    dt: datetime = Field(default_factory=lambda: datetime.now(timezone.utc))\n",
    "\n",
    "    @field_serializer(\"number\")\n",
    "    def serialize_float(self, value):\n",
    "        return round(value, 2)\n",
    "\n",
    "    @field_serializer(\"dt\", when_used=\"json-unless-none\")  # can also be just \"json\"\n",
    "    def serialize_datetime_to_json(self, value):\n",
    "        return value.strftime(\"%Y/%-m%-d %I:%M %p\")\n"
   ]
  },
  {
   "cell_type": "code",
   "execution_count": 67,
   "id": "b27a90fc-2488-49c4-876e-f215832c84f6",
   "metadata": {},
   "outputs": [
    {
     "data": {
      "text/plain": [
       "{'number': 0.33,\n",
       " 'dt': datetime.datetime(2024, 8, 5, 17, 21, 55, 62247, tzinfo=datetime.timezone.utc)}"
      ]
     },
     "execution_count": 67,
     "metadata": {},
     "output_type": "execute_result"
    }
   ],
   "source": [
    "m = Model(number=1/3)\n",
    "m.model_dump()"
   ]
  },
  {
   "cell_type": "code",
   "execution_count": 68,
   "id": "efbc22c0-68e6-4dbb-a940-575d10fd0749",
   "metadata": {},
   "outputs": [
    {
     "data": {
      "text/plain": [
       "'{\"number\":0.33,\"dt\":\"2024/85 05:21 PM\"}'"
      ]
     },
     "execution_count": 68,
     "metadata": {},
     "output_type": "execute_result"
    }
   ],
   "source": [
    "m.model_dump_json()"
   ]
  },
  {
   "cell_type": "code",
   "execution_count": 69,
   "id": "9a02ce91-1084-47df-a1e3-62c5dd52db71",
   "metadata": {},
   "outputs": [],
   "source": [
    "from pydantic import field_validator"
   ]
  },
  {
   "cell_type": "code",
   "execution_count": 70,
   "id": "f5a893f0-7e90-42aa-a724-c9d7966e6bbe",
   "metadata": {},
   "outputs": [],
   "source": [
    "class Model(BaseModel):\n",
    "    absolute: int\n",
    "\n",
    "    @field_validator(\"absolute\")  # transform validator - transforms the value, called before instance creation - class method\n",
    "    @classmethod\n",
    "    def make_absolute(cls, value):\n",
    "        # this is an \"after validator\" - first type validation will be performed\n",
    "        return abs(value)\n"
   ]
  },
  {
   "cell_type": "code",
   "execution_count": 71,
   "id": "9a92a46b-904b-492c-a3dc-bc0e2801574c",
   "metadata": {},
   "outputs": [
    {
     "data": {
      "text/plain": [
       "Model(absolute=10)"
      ]
     },
     "execution_count": 71,
     "metadata": {},
     "output_type": "execute_result"
    }
   ],
   "source": [
    "m = Model(absolute=-10)\n",
    "m\n"
   ]
  },
  {
   "cell_type": "code",
   "execution_count": 72,
   "id": "e354a527-a4d9-47d7-b31e-f33c2161f63d",
   "metadata": {},
   "outputs": [
    {
     "name": "stdout",
     "output_type": "stream",
     "text": [
      "1 validation error for Model\n",
      "absolute\n",
      "  Input should be a valid integer, unable to parse string as an integer [type=int_parsing, input_value='abcd', input_type=str]\n",
      "    For further information visit https://errors.pydantic.dev/2.8/v/int_parsing\n"
     ]
    }
   ],
   "source": [
    "try:\n",
    "    Model(absolute=\"abcd\")\n",
    "except ValidationError as e:\n",
    "    print(e)"
   ]
  },
  {
   "cell_type": "code",
   "execution_count": 73,
   "id": "b8285663-4f3a-4a2d-ac2c-ba0a0ed87249",
   "metadata": {},
   "outputs": [],
   "source": [
    "class Model(BaseModel):\n",
    "    numbers: list[int] = []\n",
    "\n",
    "    @field_validator(\"numbers\")\n",
    "    @classmethod\n",
    "    def ensure_unique(cls, numbers):\n",
    "        if len(set(numbers)) != len(numbers):\n",
    "            print(\"Raising the exception\")\n",
    "            raise ValueError(\"Elements must be unique\")\n",
    "        return numbers\n"
   ]
  },
  {
   "cell_type": "code",
   "execution_count": 74,
   "id": "fd94638f-df9c-46c6-9af4-ede3bde954ad",
   "metadata": {},
   "outputs": [
    {
     "data": {
      "text/plain": [
       "Model(numbers=[1, 2, 3, 4])"
      ]
     },
     "execution_count": 74,
     "metadata": {},
     "output_type": "execute_result"
    }
   ],
   "source": [
    "Model(numbers=[1,2,3,4])"
   ]
  },
  {
   "cell_type": "code",
   "execution_count": 75,
   "id": "5fbba88e-b6cd-42cd-80ed-485b708b6d35",
   "metadata": {},
   "outputs": [
    {
     "name": "stdout",
     "output_type": "stream",
     "text": [
      "Raising the exception\n",
      "1 validation error for Model\n",
      "numbers\n",
      "  Value error, Elements must be unique [type=value_error, input_value=[1, 1, 1, 2, 3, 4], input_type=list]\n",
      "    For further information visit https://errors.pydantic.dev/2.8/v/value_error\n"
     ]
    }
   ],
   "source": [
    "try:\n",
    "    Model(numbers=[1,1,1,2,3,4])\n",
    "except ValidationError as e:\n",
    "    print(e)"
   ]
  },
  {
   "cell_type": "code",
   "execution_count": 76,
   "id": "12992405-6698-48bc-8f8b-be752c3935b4",
   "metadata": {},
   "outputs": [],
   "source": [
    "data = {\n",
    "    \"firstName\": \"Arthur\",\n",
    "    \"lastName\": \"Clarke\",\n",
    "    \"born\": {\n",
    "        \"place\": {\n",
    "            \"country\": \"Lunar Colony\",\n",
    "            \"city\": \"Central City\"\n",
    "        },\n",
    "        \"date\": \"3001-01-01\"\n",
    "    }\n",
    "}"
   ]
  },
  {
   "cell_type": "code",
   "execution_count": 77,
   "id": "77f41d1c-2a62-4a76-b0a2-bea3a200123c",
   "metadata": {},
   "outputs": [],
   "source": [
    "from datetime import date\n",
    "\n",
    "\n",
    "class Place(BaseModel):\n",
    "    country: str\n",
    "    city: str\n",
    "\n",
    "\n",
    "class Born(BaseModel):\n",
    "    place: Place  # model composition, defines nested Pydantic models\n",
    "    dt: date = Field(alias=\"date\")\n",
    "\n",
    "\n",
    "class Person(BaseModel):\n",
    "    first_name: str | None = Field(alias=\"firstName\", default=None)\n",
    "    last_name: str = Field(alias=\"lastName\")\n",
    "    born: Born | None = None"
   ]
  },
  {
   "cell_type": "code",
   "execution_count": 78,
   "id": "45206a5f-4e8e-4661-b58d-20fc8d02c316",
   "metadata": {},
   "outputs": [],
   "source": [
    "arthur = Person.model_validate(data)"
   ]
  },
  {
   "cell_type": "code",
   "execution_count": 79,
   "id": "2d7d9c1b-70bb-4564-81c6-8ca6b1e2bd16",
   "metadata": {},
   "outputs": [
    {
     "data": {
      "text/plain": [
       "{'first_name': 'Arthur',\n",
       " 'last_name': 'Clarke',\n",
       " 'born': Born(place=Place(country='Lunar Colony', city='Central City'), dt=datetime.date(3001, 1, 1))}"
      ]
     },
     "execution_count": 79,
     "metadata": {},
     "output_type": "execute_result"
    }
   ],
   "source": [
    "arthur.__dict__"
   ]
  },
  {
   "cell_type": "code",
   "execution_count": 80,
   "id": "82e68306-1801-495e-ad10-8e5aa9f74ce4",
   "metadata": {},
   "outputs": [
    {
     "data": {
      "text/plain": [
       "'Central City'"
      ]
     },
     "execution_count": 80,
     "metadata": {},
     "output_type": "execute_result"
    }
   ],
   "source": [
    "arthur.born.place.city"
   ]
  },
  {
   "cell_type": "code",
   "execution_count": 81,
   "id": "ce8947f6-6aa6-42a8-8e1b-bade43c91841",
   "metadata": {},
   "outputs": [
    {
     "data": {
      "text/plain": [
       "({'first_name': 'Arthur',\n",
       "  'last_name': 'Clarke',\n",
       "  'born': {'place': {'country': 'Lunar Colony', 'city': 'Central City'},\n",
       "   'dt': datetime.date(3001, 1, 1)}},\n",
       " '{\"first_name\":\"Arthur\",\"last_name\":\"Clarke\",\"born\":{\"place\":{\"country\":\"Lunar Colony\",\"city\":\"Central City\"},\"dt\":\"3001-01-01\"}}')"
      ]
     },
     "execution_count": 81,
     "metadata": {},
     "output_type": "execute_result"
    }
   ],
   "source": [
    "arthur.model_dump(), arthur.model_dump_json()"
   ]
  },
  {
   "cell_type": "code",
   "execution_count": 82,
   "id": "1e7b7863-cbcd-4c3d-944f-6456a21a91c4",
   "metadata": {},
   "outputs": [
    {
     "name": "stdout",
     "output_type": "stream",
     "text": [
      "{\n",
      "  \"first_name\": \"Arthur\",\n",
      "  \"last_name\": \"Clarke\",\n",
      "  \"born\": {\n",
      "    \"place\": {\n",
      "      \"country\": \"Lunar Colony\",\n",
      "      \"city\": \"Central City\"\n",
      "    },\n",
      "    \"dt\": \"3001-01-01\"\n",
      "  }\n",
      "}\n"
     ]
    }
   ],
   "source": [
    "print(arthur.model_dump_json(indent=2))"
   ]
  },
  {
   "cell_type": "code",
   "execution_count": null,
   "id": "ecd0e9ed-0e61-4d56-b616-fd1c66831324",
   "metadata": {},
   "outputs": [],
   "source": []
  }
 ],
 "metadata": {
  "kernelspec": {
   "display_name": "Python 3 (ipykernel)",
   "language": "python",
   "name": "python3"
  },
  "language_info": {
   "codemirror_mode": {
    "name": "ipython",
    "version": 3
   },
   "file_extension": ".py",
   "mimetype": "text/x-python",
   "name": "python",
   "nbconvert_exporter": "python",
   "pygments_lexer": "ipython3",
   "version": "3.12.3"
  }
 },
 "nbformat": 4,
 "nbformat_minor": 5
}
